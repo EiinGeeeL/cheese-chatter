{
 "cells": [
  {
   "cell_type": "markdown",
   "metadata": {},
   "source": [
    "# LLMs - LangGraph MLFlow Validation\n"
   ]
  },
  {
   "cell_type": "code",
   "execution_count": 1,
   "metadata": {},
   "outputs": [
    {
     "name": "stdout",
     "output_type": "stream",
     "text": [
      "Current Directory: c:\\Users\\0020441\\Desktop\\PROYECTOS_GIT\\langchain\\poc_ayto_madrid_zonas_verdes\\research\n",
      "Moved Back to: c:\\Users\\0020441\\Desktop\\PROYECTOS_GIT\\langchain\\poc_ayto_madrid_zonas_verdes\n"
     ]
    }
   ],
   "source": [
    "import os\n",
    "\n",
    "# Print the current working directory\n",
    "print(\"Current Directory:\", os.getcwd())\n",
    "\n",
    "# Move one directory back\n",
    "os.chdir('..')\n",
    "\n",
    "# Print the new current working directory\n",
    "print(\"Moved Back to:\", os.getcwd())"
   ]
  },
  {
   "cell_type": "code",
   "execution_count": 2,
   "metadata": {},
   "outputs": [],
   "source": [
    "import mlflow\n",
    "import time\n",
    "import pandas as pd\n",
    "import numpy as np\n",
    "import uuid\n",
    "from langserve import RemoteRunnable\n",
    "from sklearn.metrics import accuracy_score, precision_score, recall_score, f1_score\n",
    "from src.greenzones.config.config_prompt import system_template_dict\n",
    "from src.greenzones.config.config_fewshot import fewshot_dict\n",
    "from src.greenzones.utils.format_img import user_local_img_input, obtain_img_path, parse_ai_message_output\n",
    "\n",
    "session_id = str(uuid.uuid4())\n",
    "config = None # No thread_id for memory\n",
    "greenzones = RemoteRunnable(\"http://localhost:8000/greenzones\")"
   ]
  },
  {
   "cell_type": "code",
   "execution_count": null,
   "metadata": {},
   "outputs": [],
   "source": [
    "# !mlflow server --host 127.0.0.1 --port 5000"
   ]
  },
  {
   "cell_type": "code",
   "execution_count": 3,
   "metadata": {},
   "outputs": [],
   "source": [
    "# Maping information of the langserve deployed\n",
    "# NOTE: This is just a map to evaluate challengers, this is not conected with the app\n",
    "azure_deployment = \"gpt-4o-mini\"    \n",
    "openai_api_version = \"2024-02-01\",\n",
    "prompt_version = 'v02'\n",
    "fewshot_version = 'v02'\n",
    "system_prompt = system_template_dict[prompt_version]\n",
    "fewshot = fewshot_dict[fewshot_version]"
   ]
  },
  {
   "cell_type": "code",
   "execution_count": 4,
   "metadata": {},
   "outputs": [],
   "source": [
    "# Defining the params of the run\n",
    "params = {\n",
    "    'azure_deployment': azure_deployment,\n",
    "    'openai_api_version': openai_api_version,\n",
    "    'prompt_version': prompt_version,\n",
    "    'fewshot_version': fewshot_version,\n",
    "    'fewshot': fewshot,\n",
    "    'system_prompt': system_prompt,\n",
    "}"
   ]
  },
  {
   "cell_type": "code",
   "execution_count": 5,
   "metadata": {},
   "outputs": [],
   "source": [
    "# Dictionary to keep the data\n",
    "data_dict = {\n",
    "    'img_list' : [],\n",
    "    'label_pred' : [],\n",
    "    'confidence_list' : [],\n",
    "    'response_t_list' : [],\n",
    "    'input_tokens_list' : [],\n",
    "    'output_tokens_list' : [],\n",
    "    'total_tokens_list' : [],\n",
    "}"
   ]
  },
  {
   "cell_type": "code",
   "execution_count": 14,
   "metadata": {},
   "outputs": [
    {
     "name": "stdout",
     "output_type": "stream",
     "text": [
      "Analyzing 25 img\n",
      "1689242233469_fffffffffaf0e60c0000000075b319f8.jpg\n",
      "OK: [(\"etiquetado\", 0), (\"confianza\", 0.85), (\"analisis\": \"El escardado no es adecuado debido a la presencia abundante de hierbas en el alcorque, lo que indica falta de mantenimiento. Aunque el suelo parece aireado, la compactación y la presencia de malas hierbas hacen que el entrecavado no sea aceptable.\")]\n",
      "     \n",
      "1689325246275_0000000062992ad00000000075b319f8.jpg\n",
      "OK: [(\"etiquetado\", 0), (\"confianza\", 0.95), (\"analisis\": \"El escardado es inadecuado debido a la abundante vegetación no deseada en el alcorque. Además, el entrecavado no es suficiente, ya que el suelo parece compacto y no se observa movimiento de tierras ni terrones de tierra en el alcorque.\")]\n",
      "     \n",
      "1689325516977_0000000062992ad00000000075b319f8.jpg\n",
      "OK: [(\"etiquetado\", 0), (\"confianza\", 1.00), (\"analisis\": \"El escardado es inadecuado debido a la abundante vegetación no deseada que rodea el tronco del árbol. Además, no se puede evaluar el entrecavado por la falta de visibilidad del suelo, pero la presencia de hierbas sugiere que no se ha realizado un buen trabajo en este aspecto.\")]\n",
      "     \n",
      "1695118240379_fffffffffaf0e60c0000000075b319f8.jpg\n",
      "OK: [(\"etiquetado\", 0), (\"confianza\", 1.00), (\"analisis\": \"Tanto el escardado como el entrecavado son inadecuados. Se observa un suelo compacto y liso sin ningún tipo de terrón o surco visible, además de la ausencia de vegetación no deseada. Esto indica un mal manejo del alcorque.\")]\n",
      "     \n",
      "1696242122797_fffffffffaf0e60c0000000075b319f8.jpg\n",
      "OK: [(\"etiquetado\", 0), (\"confianza\", 1.00), (\"analisis\": \"El escardado no es adecuado debido a la presencia de vegetación no deseada en el alcorque. Además, el entrecavado es deficiente, ya que se observa un suelo compacto y liso, sin surcos ni terrones de tierra, lo que indica una falta de aireación y drenaje.\")]\n",
      "     \n",
      "1696404265516_fffffffffaf0e60c0000000075b319f8.jpg\n",
      "OK: [(\"etiquetado\", 0), (\"confianza\", 1.00), (\"analisis\": \"El escardado no es aceptable ya que se observa suelo compacto y liso, sin ninguna irregularidad ni terrones. No hay presencia de hierbas y el alcorque está en mal estado, lo que indica que el entrecavado no se ha realizado adecuadamente.\")]\n",
      "     \n",
      "1696585482715_fffffffffaf0e60c0000000075b319f8.jpg\n",
      "OK: [(\"etiquetado\", 1), (\"confianza\", 0.90), (\"analisis\": \"El escardado es bueno ya que no se observa vegetación no deseada, solo hojas secas que no afectan la evaluación. El entrecavado también es adecuado, ya que se aprecian algunas irregularidades en el suelo y terrones que indican una correcta aireación y drenaje.\")]\n",
      "     \n",
      "1699607398917_00000000665a21550000000000000000.jpg\n",
      "OK: [(\"etiquetado\", 1), (\"confianza\", 0.85), (\"analisis\": \"El escardado es aceptable ya que se observa algo de vegetación, pero no en exceso. En cuanto al entrecavado, se presentan terrones y un suelo algo irregular, lo que indica una buena aireación y movimiento de tierras.\")]\n",
      "     \n",
      "1699607842606_00000000665a21550000000000000000.jpg\n",
      "OK: [(\"etiquetado\", 1), (\"confianza\", 0.90), (\"analisis\": \"El escardado es aceptable, ya que aunque hay algunas hojas secas, no hay presencia significativa de vegetación no deseada. El entrecavado es bueno, ya que se observan irregularidades en el suelo con terrones y un buen movimiento de tierras.\")]\n",
      "     \n",
      "1699615807665_00000000665a21550000000000000000.jpg\n",
      "OK: [(\"etiquetado\", 1), (\"confianza\", 0.85), (\"analisis\": \"El escardado es aceptable, ya que se observa muy poca vegetación en el alcorque. El entrecavado también es bueno, con un suelo que parece aireado y con terrones, lo que indica un trabajo adecuado en la remoción del suelo.\")]\n",
      "     \n",
      "1699616370830_00000000665a21550000000000000000.jpg\n",
      "OK: [(\"etiquetado\", 1), (\"confianza\", 0.85), (\"analisis\": \"El escardado es aceptable ya que no se observa vegetación indeseada en el alcorque. Además, el entrecavado es bueno, dado que el suelo se presenta suelto y aireado, con pequeñas irregularidades y terrones visibles.\")]\n",
      "     \n",
      "1701689249663_ffffffffc4d2ab7b0000000000000000.jpg\n",
      "OK: [(\"etiquetado\", 0), (\"confianza\", 1.00), (\"analisis\": \"El escardado es inadecuado debido a la abundante vegetación no deseada presente en el alcorque, lo que indica un mal manejo de la escarda. Además, la compactación del suelo y la falta de surcos o terrones de tierra sugieren un entrecavado deficiente.\")]\n",
      "     \n",
      "1701691651368_ffffffffc4d2ab7b0000000000000000.jpg\n",
      "OK: [(\"etiquetado\", 0), (\"confianza\", 0.85), (\"analisis\": \"El escardado es inadecuado, ya que hay una presencia significativa de vegetación no deseada en el alcorque. Aunque el entrecavado parece ser aceptable debido a la textura arenosa del suelo, la vegetación no deseada desmerece la calidad del trabajo realizado.\")]\n",
      "     \n",
      "1709724947099_fffffffffaf0e60c0000000000000000.jpg\n",
      "OK: [(\"etiquetado\", 0), (\"confianza\", 0.85), (\"analisis\": \"El escardado es deficiente debido a la presencia de vegetación no deseada en el alcorque. Aunque el entrecavado presenta algunas irregularidades, el suelo parece compactado y no se observan terrones de tierra, lo que afecta negativamente la evaluación general.\")]\n",
      "     \n",
      "1710328257441_ffffffff8166c61d0000000075b319f8.jpg\n",
      "KO: label <None>, response <Lo siento, pero no puedo evaluar esta imagen ya que no se puede ver claramente el suelo o el alcorque.>\n",
      "1710405637710_ffffffffc4d2ab7b0000000000000000.jpg\n",
      "OK: [(\"etiquetado\", 1), (\"confianza\", 0.90), (\"analisis\": \"El escardado es aceptable, ya que hay muy poca vegetación no deseada. El entrecavado es adecuado, se observan terrones y un suelo con cierta aireación, además de irregularidades que mejoran el drenaje y la aireación del suelo.\")]\n",
      "     \n",
      "1710415487600_ffffffff8166c61d0000000075b319f8.jpg\n",
      "OK: [(\"etiquetado\", 0), (\"confianza\", 0.85), (\"analisis\": \"El escardado es inadecuado debido a la abundante vegetación en el alcorque, un signo claro de mala gestión. El entrecavado no se puede evaluar correctamente, ya que el suelo parece compacto y no se observan surcos ni terrones de tierra, lo que indica una falta de aireación y drenaje adecuado.\")]\n",
      "     \n",
      "1710923190726_ffffffffc4d2ab7b0000000000000000.jpg\n",
      "OK: [(\"etiquetado\", 1), (\"confianza\", 0.90), (\"analisis\": \"El escardado es aceptable, ya que se observa algo de vegetación en el alcorque, pero es mínima. El entrecavado es bueno, con un suelo aireado, surcos visibles y terrones de tierra, lo que indica un buen trabajo realizado en el alcorque.\")]\n",
      "     \n",
      "1711533788344_ffffffff8166c61d0000000075b319f8.jpg\n",
      "KO: label <None>, response <Lo siento, pero no puedo evaluar esta imagen ya que el enfoque está en un tocón y no en un alcorque o en la vegetación de un árbol. Si tienes otra imagen que cumpla con los criterios, estaré encantado de ayudarte.>\n",
      "1712315534747_fffffffffaf0e60c0000000075b319f8.jpg\n",
      "OK: [(\"etiquetado\", 0), (\"confianza\", 0.85), (\"analisis\": \"El escardado es deficiente debido a la presencia significativa de vegetación no deseada en el alcorque. Aunque el entrecavado no se puede evaluar completamente, el suelo parece compacto y uniforme, lo que indica que no se ha realizado adecuadamente.\")]\n",
      "     \n",
      "1712315853150_fffffffffaf0e60c0000000075b319f8.jpg\n",
      "OK: [(\"etiquetado\", 0), (\"confianza\", 0.85), (\"analisis\": \"El escardado no es aceptable debido a la presencia significativa de vegetación no deseada en el alcorque. Además, el entrecavado es deficiente, ya que el suelo se observa liso y uniforme, sin terrones de tierra ni surcos que indiquen una buena aireación.\")]\n",
      "     \n",
      "1712317065226_fffffffffaf0e60c0000000075b319f8.jpg\n",
      "OK: [(\"etiquetado\", 0), (\"confianza\", 0.85), (\"analisis\": \"El escardado es deficiente ya que hay una gran cantidad de vegetación no deseada en el alcorque. Además, el entrecavado no se puede evaluar adecuadamente debido a la compactación del suelo y la presencia de raíces superficiales que ocupan gran parte del espacio.\")]\n",
      "     \n",
      "1713782265277_ffffffff8166c61d0000000075b319f8.jpg\n",
      "OK: [(\"etiquetado\", 0), (\"confianza\", 1.00), (\"analisis\": \"El escardado es deficiente debido a la abundante vegetación no deseada en el alcorque, que está ocupada por malas hierbas. El entrecavado también es inadecuado, ya que no se observan irregularidades en el suelo y está bastante compacto.\")]\n",
      "     \n",
      "1715064871450_ffffffffc4d2ab7b0000000000000000.jpg\n",
      "OK: [(\"etiquetado\", 0), (\"confianza\", 0.85), (\"analisis\": \"El escardado es inadecuado debido a la abundante presencia de hierbas en el alcorque, lo cual refleja un mal mantenimiento. Además, el entrecavado es insuficiente, ya que el suelo se ve compacto y sin surcos ni terrones, lo que indica que no se ha trabajado adecuadamente.\")]\n",
      "     \n",
      "1715240661869_0000000014c335a30000000075b319f8.jpg\n",
      "OK: [(\"etiquetado\", 0), (\"confianza\", 1.00), (\"analisis\": \"El escardado es inaceptable debido a la gran cantidad de vegetación no deseada en el alcorque. Asimismo, el entrecavado no es realizable, ya que el suelo se presenta compacto y sin movimiento, lo que indica una falta de aireación y drenaje adecuado.\")]\n",
      "     \n"
     ]
    }
   ],
   "source": [
    "### RECURRENT CALL\n",
    "dir = 'artifacts/evaluations/pilotos/6_25'\n",
    "img_path_list = obtain_img_path(dir)\n",
    "print(f'Analyzing {len(img_path_list)} img')\n",
    "for (img, path) in img_path_list:\n",
    "\n",
    "    try:\n",
    "        print(img)\n",
    "        user_input = user_local_img_input(path)\n",
    "        \n",
    "        start_time = time.time()\n",
    "        \n",
    "        response = greenzones.invoke({\"messages\": [(\"human\", user_input)]}, config)\n",
    "        \n",
    "        end_time = time.time()\n",
    "        response_t = round(end_time - start_time, 2)\n",
    "        \n",
    "        ai_message = response[\"messages\"][-1]\n",
    "\n",
    "        label, confidence, input_tokens, output_tokens, total_tokens = parse_ai_message_output(ai_message)\n",
    "\n",
    "        if label in (0, 1,\"0\",\"1\"):\n",
    "            print(f'OK: {ai_message.content}')\n",
    "            data_dict['img_list'].append(img)\n",
    "            data_dict['label_pred'].append(label)\n",
    "            data_dict['confidence_list'].append(confidence)\n",
    "            data_dict['response_t_list'].append(response_t)\n",
    "            data_dict['input_tokens_list'].append(input_tokens)\n",
    "            data_dict['output_tokens_list'].append(output_tokens)\n",
    "            data_dict['total_tokens_list'].append(total_tokens)\n",
    "        else:\n",
    "            print(f'KO: label <{label}>, response <{ai_message.content}>')\n",
    "            continue\n",
    "    except Exception as e:\n",
    "        print(e)\n",
    "        continue\n"
   ]
  },
  {
   "cell_type": "code",
   "execution_count": null,
   "metadata": {},
   "outputs": [],
   "source": [
    "## Calculate the metrics\n",
    "\n",
    "label_pred_df = pd.DataFrame(data_dict)\n",
    "label_pred_df.rename(columns={'img_list': 'IMAGE'}, inplace=True)\n",
    "\n",
    "val_eval_df = pd.read_csv('artifacts/evaluations/val_eval_data_cleaned.csv')\n",
    "df = pd.merge(val_eval_df, label_pred_df, on='IMAGE')\n",
    "\n",
    "# Keep the data df to late analysis\n",
    "df.to_csv(f'auditoria_test3_{prompt_version}_{fewshot_version}.csv', index=False)\n",
    "\n",
    "# Cleans nan for val\n",
    "df.dropna(subset=['label_pred'], inplace=True)\n",
    "\n",
    "# Calculate the accuracy\n",
    "accuracy = accuracy_score(df['label'], df['label_pred'])\n",
    "# Calculate other metrics\n",
    "precision = precision_score(df['label'], df['label_pred'])\n",
    "recall = recall_score(df['label'], df['label_pred'])\n",
    "f1 = f1_score(df['label'], df['label_pred'])"
   ]
  },
  {
   "cell_type": "code",
   "execution_count": 16,
   "metadata": {},
   "outputs": [],
   "source": [
    "metrics = {\n",
    "    'accuracy': accuracy,\n",
    "    'precision': precision,\n",
    "    'recall': recall,\n",
    "    'f1_score': f1,\n",
    "    'eval_img': len(label_pred_df),\n",
    "    'avg_confidence': np.mean(data_dict['confidence_list']),\n",
    "    'std_confidence': np.std(data_dict['confidence_list']),\n",
    "    'avg_response_t': np.mean(data_dict['response_t_list']),\n",
    "    'sdt_response_t': np.std(data_dict['response_t_list']),\n",
    "    'avg_input_tokens': np.mean(data_dict['input_tokens_list']),\n",
    "    'std_input_tokens': np.std(data_dict['input_tokens_list']),\n",
    "    'avg_output_tokens': np.mean(data_dict['output_tokens_list']),\n",
    "    'std_output_tokens': np.std(data_dict['output_tokens_list']), \n",
    "    'avg_total_tokens': np.mean(data_dict['total_tokens_list']),\n",
    "    'std_total_tokens': np.std(data_dict['total_tokens_list']),\n",
    "}"
   ]
  },
  {
   "cell_type": "code",
   "execution_count": 17,
   "metadata": {},
   "outputs": [
    {
     "name": "stderr",
     "output_type": "stream",
     "text": [
      "2024/10/24 13:21:11 INFO mlflow.tracking._tracking_service.client: 🏃 View run unequaled-colt-602 at: http://localhost:5000/#/experiments/390414438658344028/runs/7aa48e087b9c4405a54344904a6a4e7a.\n",
      "2024/10/24 13:21:11 INFO mlflow.tracking._tracking_service.client: 🧪 View experiment at: http://localhost:5000/#/experiments/390414438658344028.\n"
     ]
    }
   ],
   "source": [
    "mlflow.set_tracking_uri(uri=\"http://localhost:5000/\")\n",
    "\n",
    "# Register the evaluation\n",
    "mlflow.set_experiment(\"LLMs ZONAS VERDES\")\n",
    "\n",
    "with mlflow.start_run():\n",
    "    mlflow.log_params(params)\n",
    "    mlflow.log_metrics(metrics)\n",
    "    mlflow.set_tag(\"tests info\", \"piloto auditoria\")\n",
    "    # mlflow.tensorflow.log_model(cnn, model_name)"
   ]
  },
  {
   "cell_type": "code",
   "execution_count": null,
   "metadata": {},
   "outputs": [],
   "source": []
  }
 ],
 "metadata": {
  "kernelspec": {
   "display_name": ".venv_greenzones",
   "language": "python",
   "name": "python3"
  },
  "language_info": {
   "codemirror_mode": {
    "name": "ipython",
    "version": 3
   },
   "file_extension": ".py",
   "mimetype": "text/x-python",
   "name": "python",
   "nbconvert_exporter": "python",
   "pygments_lexer": "ipython3",
   "version": "3.12.5"
  }
 },
 "nbformat": 4,
 "nbformat_minor": 2
}
