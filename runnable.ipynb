{
 "cells": [
  {
   "cell_type": "markdown",
   "metadata": {},
   "source": [
    "### Chat History OakLang Graph\n",
    "Here we'll be interacting with a server that's exposing a chat bot with memmory history being persisted on the backend."
   ]
  },
  {
   "cell_type": "code",
   "execution_count": 1,
   "metadata": {
    "tags": []
   },
   "outputs": [],
   "source": [
    "import uuid\n",
    "from langserve import RemoteRunnable\n",
    "\n",
    "session_id = str(uuid.uuid4())\n",
    "cheese = RemoteRunnable(\"http://localhost:8000/cheese\")"
   ]
  },
  {
   "cell_type": "markdown",
   "metadata": {},
   "source": [
    "### Quick Graph Test"
   ]
  },
  {
   "cell_type": "code",
   "execution_count": 2,
   "metadata": {},
   "outputs": [],
   "source": [
    "# define the thread_id\n",
    "config = {\"configurable\": {\"thread_id\": \"001\"}}"
   ]
  },
  {
   "cell_type": "code",
   "execution_count": 3,
   "metadata": {},
   "outputs": [
    {
     "name": "stdout",
     "output_type": "stream",
     "text": [
      "- Número total de mensajes analizados: 25\n",
      "- Temas tratados:\n",
      "    **Tecnología y novedades**:\n",
      "        - 'EiinGeeeL': Habló sobre el primer día en el curro.\n",
      "        - 'Jose Carlos': Compartió un artículo sobre tendencias en inteligencia artificial.\n",
      "    **Social**:\n",
      "        - 'EiinGeeeL': Sugirió quedar para tomar algo este viernes.\n",
      "        - 'Jose Carlos': Dijo que está disponible y propuso un lugar céntrico.\n",
      "    **Deportes**:\n",
      "        - 'Pedro': Comentó sobre el partido de fútbol de la semana pasada.\n",
      "        - 'EiinGeeeL': Preguntó sobre dispositivos compatibles con esa tecnología.\n",
      "    **Comida y bebida**:\n",
      "        - 'Jose Carlos': Sugirió quedar para comer migas con atún.\n",
      "        - 'EiinGeeeL': Compartió un artículo sobre tendencias en inteligencia artificial.\n"
     ]
    }
   ],
   "source": [
    "# Define the input and invoke\n",
    "user_input = \"Ey, qué tal?\"\n",
    "response = cheese.invoke({\"messages\": [(\"human\", user_input)]}, config)\n",
    "# to filter the message\n",
    "print(response[\"messages\"][-1].content)"
   ]
  },
  {
   "cell_type": "code",
   "execution_count": null,
   "metadata": {},
   "outputs": [
    {
     "name": "stdout",
     "output_type": "stream",
     "text": [
      "- Número total de mensajes analizados: 5\n",
      "- Temas tratados:\n",
      "    **Compras y compradores**:\n",
      "        - 'EiinGeeeL': Sugirió comprar una silla en Ikea.\n",
      "        - 'Jose Carlos': Se mostró dispuesto a acompañarlo, pero con ciertas condiciones.\n"
     ]
    }
   ],
   "source": [
    "# Define the input and invoke\n",
    "user_input = \"Puedes resumirme los últimos 25 mensajes\"\n",
    "response = cheese.invoke({\"messages\": [(\"human\", user_input)]}, config)\n",
    "# to filter the message\n",
    "print(response[\"messages\"][-1].content)"
   ]
  },
  {
   "cell_type": "markdown",
   "metadata": {},
   "source": [
    "### Live Chat Cheese-Chatter Graph"
   ]
  },
  {
   "cell_type": "code",
   "execution_count": null,
   "metadata": {},
   "outputs": [],
   "source": [
    "## Live chat via stream\n",
    "# define the thread_id\n",
    "config = {\"configurable\": {\"thread_id\": \"002\"}}\n",
    "\n",
    "while True:\n",
    "    user_input = input(\"Human: \")\n",
    "    if user_input.lower() in [\"quit\", \"exit\", \"q\"]:\n",
    "        print(\"Cheese-Chatter: Adiós!\")\n",
    "        break\n",
    "    else:\n",
    "        print(f\"Human: {user_input}\") # You add this to see the user input\n",
    "    for event in cheese.stream({\"messages\": [(\"human\", user_input)]}, config): \n",
    "        for key, value in event.items():\n",
    "            if key == 'cheeseagent' and len(value[\"messages\"][-1].content) > 0:\n",
    "                print(\"Cheese-Chatter:\", value[\"messages\"][-1].content)     "
   ]
  },
  {
   "cell_type": "code",
   "execution_count": null,
   "metadata": {},
   "outputs": [],
   "source": [
    "## Follow the nodes via stream\n",
    "# define the thread_id\n",
    "config = {\"configurable\": {\"thread_id\": \"002\"}}\n",
    "\n",
    "# define the input\n",
    "user_input = \"Do you know what is an atom?\"\n",
    "\n",
    "for output in cheese.stream({\"messages\": [(\"human\", user_input)]}, config):\n",
    "    # stream() yields dictionaries with output keyed by node name\n",
    "    for key, value in output.items():\n",
    "        print(f\"Output from node '{key}':\")\n",
    "        print(\"---\")\n",
    "        print(value)\n",
    "    print(\"\\n---\\n\")"
   ]
  },
  {
   "cell_type": "markdown",
   "metadata": {},
   "source": [
    "### Request API"
   ]
  },
  {
   "cell_type": "code",
   "execution_count": 6,
   "metadata": {},
   "outputs": [],
   "source": [
    "import requests"
   ]
  },
  {
   "cell_type": "code",
   "execution_count": null,
   "metadata": {},
   "outputs": [],
   "source": [
    "response = requests.post(\n",
    "    url='http://localhost:8000/cheese/invoke',\n",
    "    json={\n",
    "        'input': {\n",
    "            \"messages\": [(\"human\", \"Hola, cómo estás\")],\n",
    "        },\n",
    "        'config': {\n",
    "            'configurable': {\n",
    "                \"thread_id\": \"004\"\n",
    "            }\n",
    "        }\n",
    "    }\n",
    ")\n",
    "\n",
    "print(response.json()[\"output\"][\"messages\"][-1])"
   ]
  },
  {
   "cell_type": "code",
   "execution_count": 8,
   "metadata": {},
   "outputs": [
    {
     "data": {
      "text/plain": [
       "[{'content': 'no sé yo si me apetece ver Dark',\n",
       "  'telegram_user_username': 'EiinGeeeL'},\n",
       " {'content': 'No crees que será mejor jugar al diablo IV?',\n",
       "  'telegram_user_username': 'EiinGeeeL'},\n",
       " {'content': 'ni con un palo', 'telegram_user_username': 'Jose Carlos'},\n",
       " {'content': 'Hola @Reghick', 'telegram_user_username': 'EiinGeeeL'},\n",
       " {'content': 'qué te apetece comer hoy?',\n",
       "  'telegram_user_username': 'EiinGeeeL'},\n",
       " {'content': 'migas con atún', 'telegram_user_username': 'Jose Carlos'},\n",
       " {'content': 'aunque es una mezcla rara, no?',\n",
       "  'telegram_user_username': 'Jose Carlos'},\n",
       " {'content': 'si, un poco', 'telegram_user_username': 'EiinGeeeL'},\n",
       " {'content': 'para qué hora quieres comer?',\n",
       "  'telegram_user_username': 'EiinGeeeL'},\n",
       " {'content': 'a las 3 está bien', 'telegram_user_username': 'Jose Carlos'},\n",
       " {'content': 'estupendo, después de comer te apetece hacer algo juntos?',\n",
       "  'telegram_user_username': 'EiinGeeeL'},\n",
       " {'content': 'dormir es todo lo que puedo ofrecerte',\n",
       "  'telegram_user_username': 'Jose Carlos'},\n",
       " {'content': 'vale, lo tratamos con más detalle después de comer',\n",
       "  'telegram_user_username': 'EiinGeeeL'},\n",
       " {'content': 'venga crack', 'telegram_user_username': 'Jose Carlos'},\n",
       " {'content': 'Hoy es mi primer día en el curro',\n",
       "  'telegram_user_username': 'EiinGeeeL'},\n",
       " {'content': 'Estoy un poco nervioso', 'telegram_user_username': 'EiinGeeeL'},\n",
       " {'content': 'No te preocupes, todo va a salir mal, qué sentido tiene preocuparse?',\n",
       "  'telegram_user_username': 'Jose Carlos'},\n",
       " {'content': 'Qué malo eres...', 'telegram_user_username': 'EiinGeeeL'},\n",
       " {'content': 'Hoy venía el montador de muebles, no?',\n",
       "  'telegram_user_username': 'EiinGeeeL'},\n",
       " {'content': 'Creo que sí, en unos minutos llegará',\n",
       "  'telegram_user_username': 'Jose Carlos'},\n",
       " {'content': 'Tendremos que salirnos del despacho para que monte el armario',\n",
       "  'telegram_user_username': 'Jose Carlos'},\n",
       " {'content': 'Hola Jose, hoy vamos a ir al Ikea?',\n",
       "  'telegram_user_username': 'EiinGeeeL'},\n",
       " {'content': 'puede ser, si te portas bien',\n",
       "  'telegram_user_username': 'Jose Carlos'},\n",
       " {'content': 'me gustaría comprarme hoy una silla. Qué te parece?',\n",
       "  'telegram_user_username': 'EiinGeeeL'},\n",
       " {'content': 'que te la compres ya de una vez, que eres más agarrao que un chotis',\n",
       "  'telegram_user_username': 'Jose Carlos'}]"
      ]
     },
     "execution_count": 8,
     "metadata": {},
     "output_type": "execute_result"
    }
   ],
   "source": [
    "n_messages=25\n",
    "\n",
    "url = f'http://192.168.1.224:8083/api/messages?size={n_messages}'\n",
    "response = requests.get(url)\n",
    "\n",
    "if response.status_code != 200:\n",
    "    raise ValueError(f\"Error: {n_messages} is not a valid argument\")\n",
    "\n",
    "data = response.json()\n",
    "\n",
    "# Filter the id and timestand and reverse the messages\n",
    "parsed_data = [{k: v for k, v in item.items() if k != 'timestamp' and k != 'id'} for item in reversed(data)]\n",
    "\n",
    "parsed_data"
   ]
  }
 ],
 "metadata": {
  "kernelspec": {
   "display_name": ".venv",
   "language": "python",
   "name": "python3"
  },
  "language_info": {
   "codemirror_mode": {
    "name": "ipython",
    "version": 3
   },
   "file_extension": ".py",
   "mimetype": "text/x-python",
   "name": "python",
   "nbconvert_exporter": "python",
   "pygments_lexer": "ipython3",
   "version": "3.12.5"
  }
 },
 "nbformat": 4,
 "nbformat_minor": 4
}
