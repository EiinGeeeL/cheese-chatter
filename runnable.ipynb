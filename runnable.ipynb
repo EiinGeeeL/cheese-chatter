{
 "cells": [
  {
   "cell_type": "markdown",
   "metadata": {},
   "source": [
    "### Chat History OakLang Graph\n",
    "Here we'll be interacting with a server that's exposing a chat bot with memmory history being persisted on the backend."
   ]
  },
  {
   "cell_type": "code",
   "execution_count": 1,
   "metadata": {
    "tags": []
   },
   "outputs": [],
   "source": [
    "import uuid\n",
    "from langserve import RemoteRunnable\n",
    "\n",
    "session_id = str(uuid.uuid4())\n",
    "cheese = RemoteRunnable(\"http://localhost:8000/cheese\")"
   ]
  },
  {
   "cell_type": "markdown",
   "metadata": {},
   "source": [
    "Let's create a prompt composed of a system message and a human message."
   ]
  },
  {
   "cell_type": "code",
   "execution_count": 2,
   "metadata": {},
   "outputs": [],
   "source": [
    "# define the thread_id\n",
    "config = {\"configurable\": {\"thread_id\": \"001\"}}"
   ]
  },
  {
   "cell_type": "code",
   "execution_count": 4,
   "metadata": {
    "tags": []
   },
   "outputs": [
    {
     "data": {
      "text/plain": [
       "{'messages': [['human', 'Hello how how are you?!'],\n",
       "  AIMessage(content='', additional_kwargs={}, response_metadata={'model': 'llama3.1', 'created_at': '2024-11-03T17:14:08.2001962Z', 'message': {'role': 'assistant', 'content': '', 'tool_calls': [{'function': {'name': 'EvolutionTool', 'arguments': {'pokemon_name': 'Pikachu'}}}]}, 'done_reason': 'stop', 'done': True, 'total_duration': 3501167900, 'load_duration': 2594374900, 'prompt_eval_count': 398, 'prompt_eval_duration': 402813000, 'eval_count': 21, 'eval_duration': 499456000}, id='run-dfaf1c5d-9773-4111-8437-a0962a65dea5-0', tool_calls=[{'name': 'EvolutionTool', 'args': {'pokemon_name': 'Pikachu'}, 'id': 'b6b9fe6b-afb7-4f30-a72b-46c94b3d5cd8', 'type': 'tool_call'}], usage_metadata={'input_tokens': 398, 'output_tokens': 21, 'total_tokens': 419}),\n",
       "  ToolMessage(content='[\"pichu\", \"pikachu\", \"raichu\"]', name='EvolutionTool', tool_call_id='b6b9fe6b-afb7-4f30-a72b-46c94b3d5cd8'),\n",
       "  AIMessage(content=\"Ahah, I'm doing wonderfully, thank you for asking! You want to be a Pokémon Trainer, eh? That's a wonderful dream! To become a great trainer, one must first understand the basics of Pokémon. Let me tell you, it's not just about catching them all, but also about learning from them.\\n\\nYou know, I've been studying these fascinating creatures for many years now. And I must say, each species has its unique characteristics and abilities. For instance, did you know that Pikachu is an Electric-type Pokémon? It's a very common sight in the forests around Pallet Town, where I reside.\\n\\nAs a trainer, you'll need to learn about different types of Pokémon, their habitats, and how they interact with one another. And of course, there are the legendary Pokémon... Ah, but that's a whole new world of wonder!\\n\\nNow, let me ask you: have you ever heard of the Pichu? It's a small, rodent-like Pokémon that evolves into Pikachu. Fascinating creatures, really!\", additional_kwargs={}, response_metadata={'model': 'llama3.1', 'created_at': '2024-11-03T17:14:13.5158815Z', 'message': {'role': 'assistant', 'content': \"Ahah, I'm doing wonderfully, thank you for asking! You want to be a Pokémon Trainer, eh? That's a wonderful dream! To become a great trainer, one must first understand the basics of Pokémon. Let me tell you, it's not just about catching them all, but also about learning from them.\\n\\nYou know, I've been studying these fascinating creatures for many years now. And I must say, each species has its unique characteristics and abilities. For instance, did you know that Pikachu is an Electric-type Pokémon? It's a very common sight in the forests around Pallet Town, where I reside.\\n\\nAs a trainer, you'll need to learn about different types of Pokémon, their habitats, and how they interact with one another. And of course, there are the legendary Pokémon... Ah, but that's a whole new world of wonder!\\n\\nNow, let me ask you: have you ever heard of the Pichu? It's a small, rodent-like Pokémon that evolves into Pikachu. Fascinating creatures, really!\"}, 'done_reason': 'stop', 'done': True, 'total_duration': 4311549300, 'load_duration': 23286800, 'prompt_eval_count': 325, 'prompt_eval_duration': 86559000, 'eval_count': 212, 'eval_duration': 4194487000}, id='run-1cdc1b72-c747-460f-896e-0eca36c904b3-0', usage_metadata={'input_tokens': 325, 'output_tokens': 212, 'total_tokens': 537}),\n",
       "  ['human', 'What is the evolution of Scovillain?'],\n",
       "  AIMessage(content='', additional_kwargs={}, response_metadata={'model': 'llama3.1', 'created_at': '2024-11-03T17:15:11.2981235Z', 'message': {'role': 'assistant', 'content': '', 'tool_calls': [{'function': {'name': 'EvolutionTool', 'arguments': {'pokemon_name': 'Scovillain'}}}]}, 'done_reason': 'stop', 'done': True, 'total_duration': 1168306800, 'load_duration': 23036200, 'prompt_eval_count': 672, 'prompt_eval_duration': 566847000, 'eval_count': 22, 'eval_duration': 564478000}, id='run-e5da4c60-5684-49de-8a96-b731e6da8e6d-0', tool_calls=[{'name': 'EvolutionTool', 'args': {'pokemon_name': 'Scovillain'}, 'id': '51df6264-1b2c-47ad-b5e6-2776af25c204', 'type': 'tool_call'}], usage_metadata={'input_tokens': 672, 'output_tokens': 22, 'total_tokens': 694}),\n",
       "  ToolMessage(content='[\"capsakid\", \"scovillain\"]', name='EvolutionTool', tool_call_id='51df6264-1b2c-47ad-b5e6-2776af25c204'),\n",
       "  AIMessage(content=\"The evolution of Scovillain! Well, I'm glad you asked. Scovillain is the evolved form of Capsakid. It's a Poison-type Pokémon with a rather...unsettling appearance, if I may say so myself.\\n\\nAs its name suggests, Scovillain has a rather sinister and cunning nature. Its ability to deal massive damage with its poisonous attacks makes it a formidable opponent in battle. And did you know that Scovillain is known to be quite rare in the wild? Trainers who've managed to catch one are truly exceptional!\\n\\nNow, I must say that as a Pokémon Professor, I'm always eager to learn more about these fascinating creatures and their evolutions. The world of Pokémon is full of wonders, and there's still so much to discover!\", additional_kwargs={}, response_metadata={'model': 'llama3.1', 'created_at': '2024-11-03T17:15:16.4412019Z', 'message': {'role': 'assistant', 'content': \"The evolution of Scovillain! Well, I'm glad you asked. Scovillain is the evolved form of Capsakid. It's a Poison-type Pokémon with a rather...unsettling appearance, if I may say so myself.\\n\\nAs its name suggests, Scovillain has a rather sinister and cunning nature. Its ability to deal massive damage with its poisonous attacks makes it a formidable opponent in battle. And did you know that Scovillain is known to be quite rare in the wild? Trainers who've managed to catch one are truly exceptional!\\n\\nNow, I must say that as a Pokémon Professor, I'm always eager to learn more about these fascinating creatures and their evolutions. The world of Pokémon is full of wonders, and there's still so much to discover!\"}, 'done_reason': 'stop', 'done': True, 'total_duration': 4446213700, 'load_duration': 22173200, 'prompt_eval_count': 596, 'prompt_eval_duration': 105140000, 'eval_count': 163, 'eval_duration': 4303244000}, id='run-d13f8906-1443-41ae-ab35-41805a53db65-0', usage_metadata={'input_tokens': 596, 'output_tokens': 163, 'total_tokens': 759})]}"
      ]
     },
     "execution_count": 4,
     "metadata": {},
     "output_type": "execute_result"
    }
   ],
   "source": [
    "# Define the input and invoke\n",
    "user_input = \"What is the evolution of Scovillain?\"\n",
    "response = cheese.invoke({\"messages\": [(\"human\", user_input)]}, config)\n",
    "response\n"
   ]
  },
  {
   "cell_type": "code",
   "execution_count": null,
   "metadata": {},
   "outputs": [],
   "source": [
    "# to filter the message\n",
    "response[\"messages\"][-1].content"
   ]
  },
  {
   "cell_type": "code",
   "execution_count": null,
   "metadata": {},
   "outputs": [],
   "source": [
    "# continuing chatting in the same thread\n",
    "user_input = \"The other day I saw a rat in the streets? what could be? could you give me random movement wicht I can show?\"\n",
    "oak.invoke({\"messages\": [(\"human\", user_input)]}, config)[\"messages\"][-1].content"
   ]
  },
  {
   "cell_type": "code",
   "execution_count": null,
   "metadata": {},
   "outputs": [],
   "source": [
    "# check the memory\n",
    "user_input = \"oh thats sounds nice, could you give me more randoms movements for that pokemon? and what is its evolution?\"\n",
    "oak.invoke({\"messages\": [(\"human\", user_input)]}, config)[\"messages\"][-1].content"
   ]
  },
  {
   "cell_type": "code",
   "execution_count": null,
   "metadata": {},
   "outputs": [],
   "source": [
    "# check the memory with new config\n",
    "config = {\"configurable\": {\"thread_id\": \"002\"}}\n",
    "user_input = \"My name is Angel, hello\"\n",
    "oak.invoke({\"messages\": [(\"human\", user_input)]}, config)[\"messages\"][-1].content"
   ]
  },
  {
   "cell_type": "code",
   "execution_count": null,
   "metadata": {},
   "outputs": [],
   "source": [
    "# check the memory\n",
    "user_input = \"What was my name?\"\n",
    "oak.invoke({\"messages\": [(\"human\", user_input)]}, config)[\"messages\"][-1].content"
   ]
  },
  {
   "cell_type": "markdown",
   "metadata": {},
   "source": [
    "### Live Chat OakLang Graph"
   ]
  },
  {
   "cell_type": "code",
   "execution_count": null,
   "metadata": {},
   "outputs": [],
   "source": [
    "## Follow the nodes via stream\n",
    "\n",
    "# define the thread_id\n",
    "config = {\"configurable\": {\"thread_id\": \"004\"}}\n",
    "\n",
    "# define the input\n",
    "user_input = \"Do you know what is an atom?\"\n",
    "\n",
    "for output in oak.stream({\"messages\": [(\"human\", user_input)]}, config):\n",
    "    # stream() yields dictionaries with output keyed by node name\n",
    "    for key, value in output.items():\n",
    "        print(f\"Output from node '{key}':\")\n",
    "        print(\"---\")\n",
    "        print(value)\n",
    "    print(\"\\n---\\n\")"
   ]
  },
  {
   "cell_type": "code",
   "execution_count": null,
   "metadata": {},
   "outputs": [],
   "source": [
    "## Live chat via stream\n",
    "\n",
    "# define the thread_id\n",
    "config = {\"configurable\": {\"thread_id\": \"007\"}}\n",
    "\n",
    "while True:\n",
    "    user_input = input(\"Human: \")\n",
    "    if user_input.lower() in [\"quit\", \"exit\", \"q\"]:\n",
    "        print(\"Assistant: Goodbye!\")\n",
    "        break\n",
    "    else:\n",
    "        print(f\"Human: {user_input}\") # You add this to see the user input\n",
    "    for event in oak.stream({\"messages\": [(\"human\", user_input)]}, config): \n",
    "        for key, value in event.items():\n",
    "            if key == 'agent' and len(value[\"messages\"][-1].content) > 0:\n",
    "                print(\"Assistant:\", value[\"messages\"][-1].content)\n",
    "                "
   ]
  },
  {
   "cell_type": "markdown",
   "metadata": {},
   "source": [
    "### Request API"
   ]
  },
  {
   "cell_type": "code",
   "execution_count": null,
   "metadata": {},
   "outputs": [],
   "source": [
    "import requests\n",
    "\n",
    "response = requests.post(\n",
    "    url='http://localhost:8000/oak/invoke',\n",
    "    json={\n",
    "        'input': {\n",
    "            \"messages\": [(\"human\", \"Hello my name is BOB\")],\n",
    "        },\n",
    "        'config': {\n",
    "            'configurable': {\n",
    "                \"thread_id\": \"003\"\n",
    "            }\n",
    "        }\n",
    "    }\n",
    ")\n",
    "\n",
    "print(response.json()[\"output\"][\"messages\"][-1])"
   ]
  },
  {
   "cell_type": "code",
   "execution_count": null,
   "metadata": {},
   "outputs": [],
   "source": [
    "import requests\n",
    "\n",
    "response = requests.post(\n",
    "    url='http://localhost:8000/oak/invoke',\n",
    "    json={\n",
    "        'input': {\n",
    "            \"messages\": [(\"human\", \"What was my name?\")],\n",
    "        },\n",
    "        'config': {\n",
    "            'configurable': {\n",
    "                \"thread_id\": \"003\"\n",
    "            }\n",
    "        }\n",
    "    }\n",
    ")\n",
    "\n",
    "print(response.json()[\"output\"][\"messages\"][-1])"
   ]
  }
 ],
 "metadata": {
  "kernelspec": {
   "display_name": ".venv",
   "language": "python",
   "name": "python3"
  },
  "language_info": {
   "codemirror_mode": {
    "name": "ipython",
    "version": 3
   },
   "file_extension": ".py",
   "mimetype": "text/x-python",
   "name": "python",
   "nbconvert_exporter": "python",
   "pygments_lexer": "ipython3",
   "version": "3.12.5"
  }
 },
 "nbformat": 4,
 "nbformat_minor": 4
}
