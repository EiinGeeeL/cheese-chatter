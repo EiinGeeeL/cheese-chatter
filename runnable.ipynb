{
 "cells": [
  {
   "cell_type": "markdown",
   "metadata": {},
   "source": [
    "### Chat History OakLang Graph\n",
    "Here we'll be interacting with a server that's exposing a chat bot with memmory history being persisted on the backend."
   ]
  },
  {
   "cell_type": "code",
   "execution_count": 1,
   "metadata": {
    "tags": []
   },
   "outputs": [],
   "source": [
    "import uuid\n",
    "from langserve import RemoteRunnable\n",
    "\n",
    "session_id = str(uuid.uuid4())\n",
    "cheese = RemoteRunnable(\"http://localhost:8000/cheese\")"
   ]
  },
  {
   "cell_type": "markdown",
   "metadata": {},
   "source": [
    "Let's create a prompt composed of a system message and a human message."
   ]
  },
  {
   "cell_type": "code",
   "execution_count": 2,
   "metadata": {},
   "outputs": [],
   "source": [
    "# define the thread_id\n",
    "config = {\"configurable\": {\"thread_id\": \"001\"}}"
   ]
  },
  {
   "cell_type": "code",
   "execution_count": 3,
   "metadata": {
    "tags": []
   },
   "outputs": [
    {
     "data": {
      "text/plain": [
       "{'messages': [['human',\n",
       "   'The pokemon I saw fishing was white? What is the evolution of Houndstone?'],\n",
       "  AIMessage(content='', additional_kwargs={}, response_metadata={'model': 'llama3.1', 'created_at': '2024-11-08T15:51:51.0690065Z', 'message': {'role': 'assistant', 'content': '', 'tool_calls': [{'function': {'name': 'EvolutionTool', 'arguments': {'pokemon_name': 'Houndstone'}}}]}, 'done_reason': 'stop', 'done': True, 'total_duration': 4004745100, 'load_duration': 2221340100, 'prompt_eval_count': 409, 'prompt_eval_duration': 539000000, 'eval_count': 21, 'eval_duration': 658000000}, id='run-b5b0d830-a6fd-49f8-a87b-20967a0252b1-0', tool_calls=[{'name': 'EvolutionTool', 'args': {'pokemon_name': 'Houndstone'}, 'id': '6ad7d601-0b8b-42df-96c6-ff0d2a59384c', 'type': 'tool_call'}], usage_metadata={'input_tokens': 409, 'output_tokens': 21, 'total_tokens': 430}),\n",
       "  ToolMessage(content='[\"greavard\", \"houndstone\"]', name='EvolutionTool', tool_call_id='6ad7d601-0b8b-42df-96c6-ff0d2a59384c'),\n",
       "  AIMessage(content=\"A young trainer, eager to catch 'em all! I'm glad you're interested in Pokémon research.\\n\\nAs for the white Pokémon fishing, I believe you might be thinking of a Houndstone. And speaking of evolution, you're asking about its evolution line!\\n\\nHoundstone evolves into Greavard at level 10, and then further evolves into Houndstone's final form: Houndstone doesn't evolve into Greavard, but rather the other way around.\", additional_kwargs={}, response_metadata={'model': 'llama3.1', 'created_at': '2024-11-08T15:51:54.8100759Z', 'message': {'role': 'assistant', 'content': \"A young trainer, eager to catch 'em all! I'm glad you're interested in Pokémon research.\\n\\nAs for the white Pokémon fishing, I believe you might be thinking of a Houndstone. And speaking of evolution, you're asking about its evolution line!\\n\\nHoundstone evolves into Greavard at level 10, and then further evolves into Houndstone's final form: Houndstone doesn't evolve into Greavard, but rather the other way around.\"}, 'done_reason': 'stop', 'done': True, 'total_duration': 3162806300, 'load_duration': 22905700, 'prompt_eval_count': 330, 'prompt_eval_duration': 34000000, 'eval_count': 97, 'eval_duration': 3100000000}, id='run-26b26507-09d3-4255-a474-fe824ec5d5dd-0', usage_metadata={'input_tokens': 330, 'output_tokens': 97, 'total_tokens': 427})]}"
      ]
     },
     "execution_count": 3,
     "metadata": {},
     "output_type": "execute_result"
    }
   ],
   "source": [
    "# Define the input and invoke\n",
    "user_input = \"The pokemon I saw fishing was white? What is the evolution of Houndstone?\"\n",
    "response = cheese.invoke({\"messages\": [(\"human\", user_input)]}, config)\n",
    "response\n"
   ]
  },
  {
   "cell_type": "code",
   "execution_count": null,
   "metadata": {},
   "outputs": [],
   "source": [
    "# to filter the message\n",
    "response[\"messages\"][-1].content"
   ]
  },
  {
   "cell_type": "code",
   "execution_count": null,
   "metadata": {},
   "outputs": [],
   "source": [
    "# continuing chatting in the same thread\n",
    "user_input = \"The other day I saw a rat in the streets? what could be? could you give me random movement wicht I can show?\"\n",
    "cheese.invoke({\"messages\": [(\"human\", user_input)]}, config)[\"messages\"][-1].content"
   ]
  },
  {
   "cell_type": "code",
   "execution_count": null,
   "metadata": {},
   "outputs": [],
   "source": [
    "# check the memory\n",
    "user_input = \"oh thats sounds nice, could you give me more randoms movements for that pokemon? and what is its evolution?\"\n",
    "cheese.invoke({\"messages\": [(\"human\", user_input)]}, config)[\"messages\"][-1].content"
   ]
  },
  {
   "cell_type": "code",
   "execution_count": null,
   "metadata": {},
   "outputs": [],
   "source": [
    "# check the memory with new config\n",
    "config = {\"configurable\": {\"thread_id\": \"002\"}}\n",
    "user_input = \"My name is Angel, hello\"\n",
    "cheese.invoke({\"messages\": [(\"human\", user_input)]}, config)[\"messages\"][-1].content"
   ]
  },
  {
   "cell_type": "code",
   "execution_count": null,
   "metadata": {},
   "outputs": [],
   "source": [
    "# check the memory\n",
    "user_input = \"What was my name?\"\n",
    "cheese.invoke({\"messages\": [(\"human\", user_input)]}, config)[\"messages\"][-1].content"
   ]
  },
  {
   "cell_type": "markdown",
   "metadata": {},
   "source": [
    "### Live Chat OakLang Graph"
   ]
  },
  {
   "cell_type": "code",
   "execution_count": null,
   "metadata": {},
   "outputs": [],
   "source": [
    "## Follow the nodes via stream\n",
    "\n",
    "# define the thread_id\n",
    "config = {\"configurable\": {\"thread_id\": \"004\"}}\n",
    "\n",
    "# define the input\n",
    "user_input = \"Do you know what is an atom?\"\n",
    "\n",
    "for output in cheese.stream({\"messages\": [(\"human\", user_input)]}, config):\n",
    "    # stream() yields dictionaries with output keyed by node name\n",
    "    for key, value in output.items():\n",
    "        print(f\"Output from node '{key}':\")\n",
    "        print(\"---\")\n",
    "        print(value)\n",
    "    print(\"\\n---\\n\")"
   ]
  },
  {
   "cell_type": "code",
   "execution_count": null,
   "metadata": {},
   "outputs": [],
   "source": [
    "## Live chat via stream\n",
    "\n",
    "# define the thread_id\n",
    "config = {\"configurable\": {\"thread_id\": \"007\"}}\n",
    "\n",
    "while True:\n",
    "    user_input = input(\"Human: \")\n",
    "    if user_input.lower() in [\"quit\", \"exit\", \"q\"]:\n",
    "        print(\"Assistant: Goodbye!\")\n",
    "        break\n",
    "    else:\n",
    "        print(f\"Human: {user_input}\") # You add this to see the user input\n",
    "    for event in cheese.stream({\"messages\": [(\"human\", user_input)]}, config): \n",
    "        for key, value in event.items():\n",
    "            if key == 'agent' and len(value[\"messages\"][-1].content) > 0:\n",
    "                print(\"Assistant:\", value[\"messages\"][-1].content)\n",
    "                "
   ]
  },
  {
   "cell_type": "markdown",
   "metadata": {},
   "source": [
    "### Request API"
   ]
  },
  {
   "cell_type": "code",
   "execution_count": null,
   "metadata": {},
   "outputs": [],
   "source": [
    "import requests\n",
    "\n",
    "response = requests.post(\n",
    "    url='http://localhost:8000/oak/invoke',\n",
    "    json={\n",
    "        'input': {\n",
    "            \"messages\": [(\"human\", \"Hello my name is BOB\")],\n",
    "        },\n",
    "        'config': {\n",
    "            'configurable': {\n",
    "                \"thread_id\": \"003\"\n",
    "            }\n",
    "        }\n",
    "    }\n",
    ")\n",
    "\n",
    "print(response.json()[\"output\"][\"messages\"][-1])"
   ]
  },
  {
   "cell_type": "code",
   "execution_count": null,
   "metadata": {},
   "outputs": [],
   "source": [
    "import requests\n",
    "\n",
    "response = requests.post(\n",
    "    url='http://localhost:8000/oak/invoke',\n",
    "    json={\n",
    "        'input': {\n",
    "            \"messages\": [(\"human\", \"What was my name?\")],\n",
    "        },\n",
    "        'config': {\n",
    "            'configurable': {\n",
    "                \"thread_id\": \"003\"\n",
    "            }\n",
    "        }\n",
    "    }\n",
    ")\n",
    "\n",
    "print(response.json()[\"output\"][\"messages\"][-1])"
   ]
  }
 ],
 "metadata": {
  "kernelspec": {
   "display_name": ".venv",
   "language": "python",
   "name": "python3"
  },
  "language_info": {
   "codemirror_mode": {
    "name": "ipython",
    "version": 3
   },
   "file_extension": ".py",
   "mimetype": "text/x-python",
   "name": "python",
   "nbconvert_exporter": "python",
   "pygments_lexer": "ipython3",
   "version": "3.12.5"
  }
 },
 "nbformat": 4,
 "nbformat_minor": 4
}
