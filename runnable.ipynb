{
 "cells": [
  {
   "cell_type": "markdown",
   "metadata": {},
   "source": [
    "### Chat History OakLang Graph\n",
    "Here we'll be interacting with a server that's exposing a chat bot with memmory history being persisted on the backend."
   ]
  },
  {
   "cell_type": "code",
   "execution_count": null,
   "metadata": {
    "tags": []
   },
   "outputs": [],
   "source": [
    "import uuid\n",
    "from langserve import RemoteRunnable\n",
    "\n",
    "session_id = str(uuid.uuid4())\n",
    "cheese = RemoteRunnable(\"http://localhost:8000/cheese\")"
   ]
  },
  {
   "cell_type": "markdown",
   "metadata": {},
   "source": [
    "Let's create a prompt composed of a system message and a human message."
   ]
  },
  {
   "cell_type": "code",
   "execution_count": 2,
   "metadata": {},
   "outputs": [],
   "source": [
    "# define the thread_id\n",
    "config = {\"configurable\": {\"thread_id\": \"001\"}}"
   ]
  },
  {
   "cell_type": "code",
   "execution_count": 3,
   "metadata": {
    "tags": []
   },
   "outputs": [
    {
     "data": {
      "text/plain": [
       "{'messages': [['human', 'The pokemon I saw fishing was white?'],\n",
       "  AIMessage(content='', additional_kwargs={}, response_metadata={'model': 'llama3.1', 'created_at': '2024-11-04T14:32:01.3224115Z', 'message': {'role': 'assistant', 'content': '', 'tool_calls': [{'function': {'name': 'EvolutionTool', 'arguments': {'pokemon_name': 'Milotic'}}}]}, 'done_reason': 'stop', 'done': True, 'total_duration': 1079763600, 'load_duration': 24232900, 'prompt_eval_count': 400, 'prompt_eval_duration': 525858000, 'eval_count': 20, 'eval_duration': 523573000}, id='run-62234db3-c116-4a36-99a3-40c9fb3b96c8-0', tool_calls=[{'name': 'EvolutionTool', 'args': {'pokemon_name': 'Milotic'}, 'id': '7440418a-f4d5-463b-a8dc-29d210565740', 'type': 'tool_call'}], usage_metadata={'input_tokens': 400, 'output_tokens': 20, 'total_tokens': 420}),\n",
       "  ToolMessage(content='[\"feebas\", \"milotic\"]', name='EvolutionTool', tool_call_id='7440418a-f4d5-463b-a8dc-29d210565740'),\n",
       "  AIMessage(content=\"You're referring to the Milotic, a Water-type Pokémon that's known for its elegant appearance and fishing habits. It has a slender body with a white and blue color scheme, making it quite easy to spot near bodies of water. As a Trainer, you'll have plenty of opportunities to catch this beautiful Pokémon in its natural habitat!\", additional_kwargs={}, response_metadata={'model': 'llama3.1', 'created_at': '2024-11-04T14:32:03.6871109Z', 'message': {'role': 'assistant', 'content': \"You're referring to the Milotic, a Water-type Pokémon that's known for its elegant appearance and fishing habits. It has a slender body with a white and blue color scheme, making it quite easy to spot near bodies of water. As a Trainer, you'll have plenty of opportunities to catch this beautiful Pokémon in its natural habitat!\"}, 'done_reason': 'stop', 'done': True, 'total_duration': 1940689400, 'load_duration': 22929800, 'prompt_eval_count': 320, 'prompt_eval_duration': 99742000, 'eval_count': 68, 'eval_duration': 1810255000}, id='run-a7a8bb09-07cb-4f88-a983-b89fcf5c328e-0', usage_metadata={'input_tokens': 320, 'output_tokens': 68, 'total_tokens': 388})]}"
      ]
     },
     "execution_count": 3,
     "metadata": {},
     "output_type": "execute_result"
    }
   ],
   "source": [
    "# Define the input and invoke\n",
    "user_input = \"The pokemon I saw fishing was white?\"\n",
    "response = cheese.invoke({\"messages\": [(\"human\", user_input)]}, config)\n",
    "response\n"
   ]
  },
  {
   "cell_type": "code",
   "execution_count": null,
   "metadata": {},
   "outputs": [],
   "source": [
    "# to filter the message\n",
    "response[\"messages\"][-1].content"
   ]
  },
  {
   "cell_type": "code",
   "execution_count": null,
   "metadata": {},
   "outputs": [],
   "source": [
    "# continuing chatting in the same thread\n",
    "user_input = \"The other day I saw a rat in the streets? what could be? could you give me random movement wicht I can show?\"\n",
    "cheese.invoke({\"messages\": [(\"human\", user_input)]}, config)[\"messages\"][-1].content"
   ]
  },
  {
   "cell_type": "code",
   "execution_count": null,
   "metadata": {},
   "outputs": [],
   "source": [
    "# check the memory\n",
    "user_input = \"oh thats sounds nice, could you give me more randoms movements for that pokemon? and what is its evolution?\"\n",
    "cheese.invoke({\"messages\": [(\"human\", user_input)]}, config)[\"messages\"][-1].content"
   ]
  },
  {
   "cell_type": "code",
   "execution_count": null,
   "metadata": {},
   "outputs": [],
   "source": [
    "# check the memory with new config\n",
    "config = {\"configurable\": {\"thread_id\": \"002\"}}\n",
    "user_input = \"My name is Angel, hello\"\n",
    "cheese.invoke({\"messages\": [(\"human\", user_input)]}, config)[\"messages\"][-1].content"
   ]
  },
  {
   "cell_type": "code",
   "execution_count": null,
   "metadata": {},
   "outputs": [],
   "source": [
    "# check the memory\n",
    "user_input = \"What was my name?\"\n",
    "cheese.invoke({\"messages\": [(\"human\", user_input)]}, config)[\"messages\"][-1].content"
   ]
  },
  {
   "cell_type": "markdown",
   "metadata": {},
   "source": [
    "### Live Chat OakLang Graph"
   ]
  },
  {
   "cell_type": "code",
   "execution_count": null,
   "metadata": {},
   "outputs": [],
   "source": [
    "## Follow the nodes via stream\n",
    "\n",
    "# define the thread_id\n",
    "config = {\"configurable\": {\"thread_id\": \"004\"}}\n",
    "\n",
    "# define the input\n",
    "user_input = \"Do you know what is an atom?\"\n",
    "\n",
    "for output in cheese.stream({\"messages\": [(\"human\", user_input)]}, config):\n",
    "    # stream() yields dictionaries with output keyed by node name\n",
    "    for key, value in output.items():\n",
    "        print(f\"Output from node '{key}':\")\n",
    "        print(\"---\")\n",
    "        print(value)\n",
    "    print(\"\\n---\\n\")"
   ]
  },
  {
   "cell_type": "code",
   "execution_count": null,
   "metadata": {},
   "outputs": [],
   "source": [
    "## Live chat via stream\n",
    "\n",
    "# define the thread_id\n",
    "config = {\"configurable\": {\"thread_id\": \"007\"}}\n",
    "\n",
    "while True:\n",
    "    user_input = input(\"Human: \")\n",
    "    if user_input.lower() in [\"quit\", \"exit\", \"q\"]:\n",
    "        print(\"Assistant: Goodbye!\")\n",
    "        break\n",
    "    else:\n",
    "        print(f\"Human: {user_input}\") # You add this to see the user input\n",
    "    for event in cheese.stream({\"messages\": [(\"human\", user_input)]}, config): \n",
    "        for key, value in event.items():\n",
    "            if key == 'agent' and len(value[\"messages\"][-1].content) > 0:\n",
    "                print(\"Assistant:\", value[\"messages\"][-1].content)\n",
    "                "
   ]
  },
  {
   "cell_type": "markdown",
   "metadata": {},
   "source": [
    "### Request API"
   ]
  },
  {
   "cell_type": "code",
   "execution_count": null,
   "metadata": {},
   "outputs": [],
   "source": [
    "import requests\n",
    "\n",
    "response = requests.post(\n",
    "    url='http://localhost:8000/oak/invoke',\n",
    "    json={\n",
    "        'input': {\n",
    "            \"messages\": [(\"human\", \"Hello my name is BOB\")],\n",
    "        },\n",
    "        'config': {\n",
    "            'configurable': {\n",
    "                \"thread_id\": \"003\"\n",
    "            }\n",
    "        }\n",
    "    }\n",
    ")\n",
    "\n",
    "print(response.json()[\"output\"][\"messages\"][-1])"
   ]
  },
  {
   "cell_type": "code",
   "execution_count": null,
   "metadata": {},
   "outputs": [],
   "source": [
    "import requests\n",
    "\n",
    "response = requests.post(\n",
    "    url='http://localhost:8000/oak/invoke',\n",
    "    json={\n",
    "        'input': {\n",
    "            \"messages\": [(\"human\", \"What was my name?\")],\n",
    "        },\n",
    "        'config': {\n",
    "            'configurable': {\n",
    "                \"thread_id\": \"003\"\n",
    "            }\n",
    "        }\n",
    "    }\n",
    ")\n",
    "\n",
    "print(response.json()[\"output\"][\"messages\"][-1])"
   ]
  }
 ],
 "metadata": {
  "kernelspec": {
   "display_name": ".venv",
   "language": "python",
   "name": "python3"
  },
  "language_info": {
   "codemirror_mode": {
    "name": "ipython",
    "version": 3
   },
   "file_extension": ".py",
   "mimetype": "text/x-python",
   "name": "python",
   "nbconvert_exporter": "python",
   "pygments_lexer": "ipython3",
   "version": "3.12.5"
  }
 },
 "nbformat": 4,
 "nbformat_minor": 4
}
