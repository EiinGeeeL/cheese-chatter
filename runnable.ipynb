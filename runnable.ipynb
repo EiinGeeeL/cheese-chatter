{
 "cells": [
  {
   "cell_type": "markdown",
   "metadata": {},
   "source": [
    "### Compile or Load Graph\n",
    "Here we'll be interacting with a server that's exposing a chat bot with memmory history being persisted on the backend."
   ]
  },
  {
   "cell_type": "code",
   "execution_count": 1,
   "metadata": {
    "tags": []
   },
   "outputs": [],
   "source": [
    "## From LangServe RemoteRunnable\n",
    "# NOTE: deprecated by command update!\n",
    "from langserve import RemoteRunnable\n",
    "from langgraph.types import Command\n",
    "\n",
    "cheese = RemoteRunnable(\"http://localhost:8000/cheese\")"
   ]
  },
  {
   "cell_type": "code",
   "execution_count": 1,
   "metadata": {},
   "outputs": [],
   "source": [
    "## From LangGraph\n",
    "from langgraph.types import Command\n",
    "from cheese.workflow_builder import WorkflowBuilder\n",
    "from cheese.config.config_graph import ConfigGraph\n",
    "\n",
    "# Workflow Configuration\n",
    "workflow_builder = WorkflowBuilder(config=ConfigGraph)\n",
    "cheese = workflow_builder.compile() # compile the graph\n",
    "workflow_builder.display_graph(save=True, filepath=\"artifacts/cheese_graph.png\") # update the graph artifact"
   ]
  },
  {
   "cell_type": "markdown",
   "metadata": {},
   "source": [
    "### Quick Graph Test"
   ]
  },
  {
   "cell_type": "code",
   "execution_count": 2,
   "metadata": {},
   "outputs": [],
   "source": [
    "# Define the thread_id\n",
    "config = {\"configurable\": {\"thread_id\": \"001\"}}"
   ]
  },
  {
   "cell_type": "code",
   "execution_count": null,
   "metadata": {},
   "outputs": [],
   "source": [
    "# Define the input and invoke\n",
    "user_input = \"Ey, ¿qué tal?\"\n",
    "message_input = {\"messages\": [{\"role\": \"human\", \"content\": user_input}]}\n",
    "for event in cheese.stream(message_input, config, stream_mode=\"updates\"):\n",
    "    print(event)\n",
    "    print(\"\\n\")"
   ]
  },
  {
   "cell_type": "code",
   "execution_count": null,
   "metadata": {},
   "outputs": [],
   "source": [
    "# Define the input and invoke\n",
    "user_input = \"¿Puedes resumirme los últimos 25 mensajes?\"\n",
    "message_input = {\"messages\": [{\"role\": \"human\", \"content\": user_input}]}\n",
    "for event in cheese.stream(message_input, config, stream_mode=\"updates\"):\n",
    "    print(event)\n",
    "    print(\"\\n\")"
   ]
  },
  {
   "cell_type": "code",
   "execution_count": null,
   "metadata": {},
   "outputs": [],
   "source": [
    "for event in cheese.stream(\n",
    "    # provide feedback\n",
    "    Command(resume={\n",
    "        \"action\": \"feedback\", \n",
    "        \"data\": \"Perdona, quise decir 5 mensajes\"\n",
    "        }\n",
    "    ),\n",
    "    config,\n",
    "    stream_mode=\"updates\",\n",
    "):\n",
    "    print(event)\n",
    "    print(\"\\n\")"
   ]
  },
  {
   "cell_type": "code",
   "execution_count": null,
   "metadata": {},
   "outputs": [],
   "source": [
    "for event in cheese.stream(\n",
    "    # provide continue\n",
    "    Command(resume={\"action\": \"continue\"}),\n",
    "    config,\n",
    "    stream_mode=\"updates\",\n",
    "):\n",
    "    print(event)\n",
    "    print(\"\\n\")"
   ]
  },
  {
   "cell_type": "markdown",
   "metadata": {},
   "source": [
    "### Live Graph Test (DEPRECATED)"
   ]
  },
  {
   "cell_type": "code",
   "execution_count": null,
   "metadata": {},
   "outputs": [],
   "source": [
    "## Live chat via stream\n",
    "# Define the thread_id\n",
    "config = {\"configurable\": {\"thread_id\": \"002\"}}\n",
    "\n",
    "while True:\n",
    "    user_input = input(\"Human: \")\n",
    "    message_input = {\"messages\": [{\"role\": \"human\", \"content\": user_input}]}\n",
    "    if user_input.lower() in [\"quit\", \"exit\", \"q\"]:\n",
    "        print(\"Cheese-Chatter: Adiós!\")\n",
    "        break\n",
    "    else:\n",
    "        print(f\"Human: {user_input}\") # to see the user input in the live chat\n",
    "    for event in cheese.stream(message_input, config): \n",
    "        for key, value in event.items():\n",
    "            if key == 'cheeseagent' and len(value[\"messages\"][-1].content) > 0:\n",
    "                print(\"Cheese-Chatter:\", value[\"messages\"][-1].content)     "
   ]
  },
  {
   "cell_type": "code",
   "execution_count": null,
   "metadata": {},
   "outputs": [],
   "source": [
    "## Follow the nodes via stream\n",
    "# Define the thread_id\n",
    "config = {\"configurable\": {\"thread_id\": \"002\"}}\n",
    "\n",
    "# Define the input and invoke\n",
    "user_input = \"Do you know what is an atom?\"\n",
    "message_input = {\"messages\": [{\"role\": \"human\", \"content\": user_input}]}\n",
    "for event in cheese.stream(message_input, config):\n",
    "    # stream() yields dictionaries with output keyed by node name\n",
    "    for key, value in event.items():\n",
    "        print(f\"Output from node '{key}':\")\n",
    "        print(\"---\")\n",
    "        print(value)\n",
    "    print(\"\\n---\\n\")"
   ]
  },
  {
   "cell_type": "markdown",
   "metadata": {},
   "source": [
    "### Graph Request API (DEPRECATED)"
   ]
  },
  {
   "cell_type": "code",
   "execution_count": null,
   "metadata": {},
   "outputs": [],
   "source": [
    "## From LangServe API\n",
    "# NOTE: deprecated by command update!\n",
    "import requests\n",
    "\n",
    "response = requests.post(\n",
    "    url='http://localhost:8000/cheese/invoke',\n",
    "    json={\n",
    "        'input': {\n",
    "            \"messages\": [(\"human\", \"Hola, cómo estás\")],\n",
    "        },\n",
    "        'config': {\n",
    "            'configurable': {\n",
    "                \"thread_id\": \"004\"\n",
    "            }\n",
    "        }\n",
    "    }\n",
    ")\n",
    "\n",
    "print(response.json()[\"output\"][\"messages\"][-1])"
   ]
  }
 ],
 "metadata": {
  "kernelspec": {
   "display_name": ".venv",
   "language": "python",
   "name": "python3"
  },
  "language_info": {
   "codemirror_mode": {
    "name": "ipython",
    "version": 3
   },
   "file_extension": ".py",
   "mimetype": "text/x-python",
   "name": "python",
   "nbconvert_exporter": "python",
   "pygments_lexer": "ipython3",
   "version": "3.12.5"
  }
 },
 "nbformat": 4,
 "nbformat_minor": 4
}
