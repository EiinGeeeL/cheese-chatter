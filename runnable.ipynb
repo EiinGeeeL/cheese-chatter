{
 "cells": [
  {
   "cell_type": "markdown",
   "metadata": {},
   "source": [
    "### Chat History OakLang Graph\n",
    "Here we'll be interacting with a server that's exposing a chat bot with memmory history being persisted on the backend."
   ]
  },
  {
   "cell_type": "code",
   "execution_count": 1,
   "metadata": {
    "tags": []
   },
   "outputs": [],
   "source": [
    "import uuid\n",
    "from langserve import RemoteRunnable\n",
    "\n",
    "session_id = str(uuid.uuid4())\n",
    "oak = RemoteRunnable(\"http://localhost:8000/oaklang\")"
   ]
  },
  {
   "cell_type": "markdown",
   "metadata": {},
   "source": [
    "Let's create a prompt composed of a system message and a human message."
   ]
  },
  {
   "cell_type": "code",
   "execution_count": 2,
   "metadata": {},
   "outputs": [],
   "source": [
    "# define the thread_id\n",
    "config = {\"configurable\": {\"thread_id\": \"001\"}}"
   ]
  },
  {
   "cell_type": "code",
   "execution_count": null,
   "metadata": {
    "tags": []
   },
   "outputs": [
    {
     "data": {
      "text/plain": [
       "{'messages': [['human', 'hello!'],\n",
       "  AIMessage(content='', additional_kwargs={}, response_metadata={'model': 'llama3.1', 'created_at': '2024-10-18T07:29:07.4513407Z', 'message': {'role': 'assistant', 'content': '', 'tool_calls': [{'function': {'name': 'get_pokedex_data', 'arguments': {'pokemon_name': 'Pokémon Trainer'}}}]}, 'done_reason': 'stop', 'done': True, 'total_duration': 4013392400, 'load_duration': 2558603200, 'prompt_eval_count': 559, 'prompt_eval_duration': 734610000, 'eval_count': 26, 'eval_duration': 713995000}, id='run-5f72d11e-2f1c-4830-9f43-15a26fcde31a-0', tool_calls=[{'name': 'get_pokedex_data', 'args': {'pokemon_name': 'Pokémon Trainer'}, 'id': '888b5443-da3d-4334-8f5d-265e79947a1a', 'type': 'tool_call'}], usage_metadata={'input_tokens': 559, 'output_tokens': 26, 'total_tokens': 585}),\n",
       "  ToolMessage(content='null', name='get_pokedex_data', tool_call_id='888b5443-da3d-4334-8f5d-265e79947a1a'),\n",
       "  AIMessage(content=\"Ahah, a young trainer eager to embark on an adventure! That's wonderful to hear. As Professor Oak, I'm more than happy to guide you on your journey.\\n\\nYou know, being a Pokémon Trainer is not just about catching 'em all, but also about understanding and respecting these incredible creatures. It's a big responsibility, but I have no doubt you'll do great!\\n\\nNow, let me ask you: Have you thought about which starter Pokémon you'd like to choose for your journey? The three options are Bulbasaur, Charmander, and Squirtle. Each has its unique strengths and abilities.\\n\\nWhich one would you like to be your first partner?\", additional_kwargs={}, response_metadata={'model': 'llama3.1', 'created_at': '2024-10-18T07:29:13.0419476Z', 'message': {'role': 'assistant', 'content': \"Ahah, a young trainer eager to embark on an adventure! That's wonderful to hear. As Professor Oak, I'm more than happy to guide you on your journey.\\n\\nYou know, being a Pokémon Trainer is not just about catching 'em all, but also about understanding and respecting these incredible creatures. It's a big responsibility, but I have no doubt you'll do great!\\n\\nNow, let me ask you: Have you thought about which starter Pokémon you'd like to choose for your journey? The three options are Bulbasaur, Charmander, and Squirtle. Each has its unique strengths and abilities.\\n\\nWhich one would you like to be your first partner?\"}, 'done_reason': 'stop', 'done': True, 'total_duration': 3899546300, 'load_duration': 22759700, 'prompt_eval_count': 308, 'prompt_eval_duration': 99811000, 'eval_count': 137, 'eval_duration': 3769880000}, id='run-fbeed795-5a19-4bb5-9b5c-a7d35a58f270-0', usage_metadata={'input_tokens': 308, 'output_tokens': 137, 'total_tokens': 445})]}"
      ]
     },
     "execution_count": 3,
     "metadata": {},
     "output_type": "execute_result"
    }
   ],
   "source": [
    "# Define the input and invoke\n",
    "user_input = \"What is the evolution of pikachu!\"\n",
    "response = oak.invoke({\"messages\": [(\"human\", user_input)]}, config)\n",
    "response\n"
   ]
  },
  {
   "cell_type": "code",
   "execution_count": 12,
   "metadata": {},
   "outputs": [
    {
     "data": {
      "text/plain": [
       "\"Ahah, a young trainer eager to embark on an adventure! That's wonderful to hear. As Professor Oak, I'm more than happy to guide you on your journey.\\n\\nYou know, being a Pokémon Trainer is not just about catching 'em all, but also about understanding and respecting these incredible creatures. It's a big responsibility, but I have no doubt you'll do great!\\n\\nNow, let me ask you: Have you thought about which starter Pokémon you'd like to choose for your journey? The three options are Bulbasaur, Charmander, and Squirtle. Each has its unique strengths and abilities.\\n\\nWhich one would you like to be your first partner?\""
      ]
     },
     "execution_count": 12,
     "metadata": {},
     "output_type": "execute_result"
    }
   ],
   "source": [
    "# to filter the message\n",
    "response[\"messages\"][-1].content"
   ]
  },
  {
   "cell_type": "code",
   "execution_count": 4,
   "metadata": {},
   "outputs": [
    {
     "data": {
      "text/plain": [
       "\"You must have seen a Rattata! Those quick and agile creatures are quite common in urban areas. They're known for their ability to squeeze through tight spaces and their sharp teeth.\\n\\nRattata is a Normal-type Pokémon, and as you can see from the list of movements I provided, it's got some pretty useful tricks up its sleeve. Double-team is a great way to take down opponents with a surprise attack, while toxic can be quite debilitating if not treated quickly. Taunt is a clever move that can distract opponents and make them more vulnerable to attacks. And curse... well, let's just say Rattata doesn't always play by the rules!\\n\\nIf you ever encounter a Rattata in the wild, I recommend approaching it with caution. They might look cute and harmless, but they're still wild Pokémon and deserve respect.\\n\\nNow, would you like to learn more about other Pokémon or perhaps discuss your journey as a trainer?\""
      ]
     },
     "execution_count": 4,
     "metadata": {},
     "output_type": "execute_result"
    }
   ],
   "source": [
    "# continuing chatting in the same thread\n",
    "user_input = \"The other day I saw a rat in the streets? what could be? could you give me random movement wicht I can show?\"\n",
    "oak.invoke({\"messages\": [(\"human\", user_input)]}, config)[\"messages\"][-1].content"
   ]
  },
  {
   "cell_type": "code",
   "execution_count": 14,
   "metadata": {},
   "outputs": [
    {
     "data": {
      "text/plain": [
       "\"Here are some additional random movements that might be useful when dealing with Rattata:\\n\\n* Tackle: A swift tackle can knock them off balance.\\n* Thunder: A well-placed thunder attack can take advantage of their weak spots.\\n* Counter: Try to counter their quick movements by anticipating their next step.\\n* Pluck: A strong pluck attack can grab onto them, limiting their mobility.\\n\\nAs for Rattata's evolution, it evolves into Raticate when it reaches a certain level.\""
      ]
     },
     "execution_count": 14,
     "metadata": {},
     "output_type": "execute_result"
    }
   ],
   "source": [
    "# check the memory\n",
    "user_input = \"oh thats sounds nice, could you give me more randoms movements for that pokemon? and what is its evolution?\"\n",
    "oak.invoke({\"messages\": [(\"human\", user_input)]}, config)[\"messages\"][-1].content"
   ]
  },
  {
   "cell_type": "code",
   "execution_count": 15,
   "metadata": {},
   "outputs": [
    {
     "data": {
      "text/plain": [
       "\"Welcome, Angel! It's a pleasure to meet you. Being a Pokémon Trainer is an exciting career path, indeed. I'm Professor Oak, and I'd be happy to guide you on your journey.\\n\\nYou know, as a Pokémon researcher, I've dedicated my life to studying these fascinating creatures. And I must say, the idea of catching 'em all is quite intriguing! However, it's not just about catching them; it's also about understanding their habitats, behaviors, and characteristics.\\n\\nLet me tell you, Angel, there are so many different species of Pokémon out there, each with its unique abilities and traits. From the Water-type Squirtle to the Fire-type Charmander, every Pokémon has something special to offer.\\n\\nNow, I'm sure you're eager to start your training journey. But before we begin, let me ask you: have you ever heard of a Pokémon that's known for its incredible speed?\""
      ]
     },
     "execution_count": 15,
     "metadata": {},
     "output_type": "execute_result"
    }
   ],
   "source": [
    "# check the memory with new config\n",
    "config = {\"configurable\": {\"thread_id\": \"002\"}}\n",
    "user_input = \"My name is Angel, hello\"\n",
    "oak.invoke({\"messages\": [(\"human\", user_input)]}, config)[\"messages\"][-1].content"
   ]
  },
  {
   "cell_type": "code",
   "execution_count": 16,
   "metadata": {},
   "outputs": [
    {
     "data": {
      "text/plain": [
       "\"Your name is Angel! I remember now, you said it earlier. It's a pleasure to meet you, Angel!\""
      ]
     },
     "execution_count": 16,
     "metadata": {},
     "output_type": "execute_result"
    }
   ],
   "source": [
    "# check the memory\n",
    "user_input = \"What was my name?\"\n",
    "oak.invoke({\"messages\": [(\"human\", user_input)]}, config)[\"messages\"][-1].content"
   ]
  },
  {
   "cell_type": "markdown",
   "metadata": {},
   "source": [
    "### Live Chat OakLang Graph"
   ]
  },
  {
   "cell_type": "code",
   "execution_count": 26,
   "metadata": {},
   "outputs": [
    {
     "name": "stdout",
     "output_type": "stream",
     "text": [
      "Output from node 'agent':\n",
      "---\n",
      "{'messages': [AIMessage(content='', additional_kwargs={}, response_metadata={'model': 'llama3.1', 'created_at': '2024-09-20T08:34:29.5673931Z', 'message': {'role': 'assistant', 'content': '', 'tool_calls': [{'function': {'name': 'get_pokedex_data', 'arguments': {'pokemon_name': 'Electabuzz'}}}]}, 'done_reason': 'stop', 'done': True, 'total_duration': 3926369500, 'load_duration': 22292900, 'prompt_eval_count': 565, 'prompt_eval_duration': 643931000, 'eval_count': 122, 'eval_duration': 3255615000}, id='run-73c51a03-f014-4f9b-9402-e2d9dbc9aaaf-0', tool_calls=[{'name': 'get_pokedex_data', 'args': {'pokemon_name': 'Electabuzz'}, 'id': 'dc7342eb-5ccd-45ca-a3b8-4fe579312a15', 'type': 'tool_call'}], usage_metadata={'input_tokens': 565, 'output_tokens': 122, 'total_tokens': 687})]}\n",
      "\n",
      "---\n",
      "\n",
      "Output from node 'action':\n",
      "---\n",
      "{'messages': [ToolMessage(content='{\"name\": \"Electabuzz\", \"id\": 125, \"types\": [\"Electric\"], \"abilities\": [\"Static\", \"Vital-Spirit\"], \"stats\": {\"hp\": 65, \"attack\": 83, \"defense\": 57, \"special-attack\": 95, \"special-defense\": 85, \"speed\": 105}, \"weight\": 300, \"height\": 11}', name='get_pokedex_data', tool_call_id='dc7342eb-5ccd-45ca-a3b8-4fe579312a15')]}\n",
      "\n",
      "---\n",
      "\n",
      "Output from node 'agent':\n",
      "---\n",
      "{'messages': [AIMessage(content=\"My young friend! I'm glad you're interested in becoming a Pokémon Trainer. However, I must say that your question about an atom is quite...unusual. You see, as a Pokémon Professor, my expertise lies with the wonderful world of Pokémon, not atoms or any other scientific concept.\\n\\nBut, if I had to make an educated guess, I'd say you might be thinking of Electabuzz! This Electric-type Pokémon has a strong connection to electricity and energy, which is similar to the atomic structure. Its ability to generate powerful electric attacks makes it a formidable opponent in battle. And have you ever seen its electrifying movements? It's quite like a spark of energy!\\n\\nNow, let's focus on your dream of becoming a Pokémon Trainer! I'd be happy to help you get started on your journey. Would you like to learn more about the different types of Pokémon or perhaps receive some advice on how to catch your first Pokémon?\", additional_kwargs={}, response_metadata={'model': 'llama3.1', 'created_at': '2024-09-20T08:34:35.0533448Z', 'message': {'role': 'assistant', 'content': \"My young friend! I'm glad you're interested in becoming a Pokémon Trainer. However, I must say that your question about an atom is quite...unusual. You see, as a Pokémon Professor, my expertise lies with the wonderful world of Pokémon, not atoms or any other scientific concept.\\n\\nBut, if I had to make an educated guess, I'd say you might be thinking of Electabuzz! This Electric-type Pokémon has a strong connection to electricity and energy, which is similar to the atomic structure. Its ability to generate powerful electric attacks makes it a formidable opponent in battle. And have you ever seen its electrifying movements? It's quite like a spark of energy!\\n\\nNow, let's focus on your dream of becoming a Pokémon Trainer! I'd be happy to help you get started on your journey. Would you like to learn more about the different types of Pokémon or perhaps receive some advice on how to catch your first Pokémon?\"}, 'done_reason': 'stop', 'done': True, 'total_duration': 5390839300, 'load_duration': 23435100, 'prompt_eval_count': 399, 'prompt_eval_duration': 226774000, 'eval_count': 190, 'eval_duration': 5131956000}, id='run-5627ade5-90e4-4a59-98e2-db93d66c0465-0', usage_metadata={'input_tokens': 399, 'output_tokens': 190, 'total_tokens': 589})]}\n",
      "\n",
      "---\n",
      "\n"
     ]
    }
   ],
   "source": [
    "## Follow the nodes via stream\n",
    "\n",
    "# define the thread_id\n",
    "config = {\"configurable\": {\"thread_id\": \"004\"}}\n",
    "\n",
    "# define the input\n",
    "user_input = \"Do you know what is an atom?\"\n",
    "\n",
    "for output in oak.stream({\"messages\": [(\"human\", user_input)]}, config):\n",
    "    # stream() yields dictionaries with output keyed by node name\n",
    "    for key, value in output.items():\n",
    "        print(f\"Output from node '{key}':\")\n",
    "        print(\"---\")\n",
    "        print(value)\n",
    "    print(\"\\n---\\n\")"
   ]
  },
  {
   "cell_type": "code",
   "execution_count": 31,
   "metadata": {},
   "outputs": [
    {
     "name": "stdout",
     "output_type": "stream",
     "text": [
      "Human: Hola, mi nombre es Angel. Qué tal te encuentras?\n",
      "Assistant: ¡Hola Angel! Me alegra verte con entusiasmo para ser entrenador de Pokémon. ¡Es un sueño maravilloso!\n",
      "\n",
      "You know, I've been studying the Charmander, a Fire-type Pokémon that's perfect for trainers just starting out. It's got a Blaze ability, which means its fire-based attacks get stronger when its HP is low. And with its high Attack stat, it can deal some serious damage to opponents.\n",
      "\n",
      "As your Professor, I'd be happy to help you on your journey and provide you with information about the different Pokémon you'll encounter. But first, let's get started by catching ourselves a Charmander! Would you like to head out into the Viridian Forest to search for one?\n",
      "Assistant: Goodbye!\n"
     ]
    }
   ],
   "source": [
    "## Live chat via stream\n",
    "\n",
    "# define the thread_id\n",
    "config = {\"configurable\": {\"thread_id\": \"007\"}}\n",
    "\n",
    "while True:\n",
    "    user_input = input(\"Human: \")\n",
    "    if user_input.lower() in [\"quit\", \"exit\", \"q\"]:\n",
    "        print(\"Assistant: Goodbye!\")\n",
    "        break\n",
    "    else:\n",
    "        print(f\"Human: {user_input}\") # You add this to see the user input\n",
    "    for event in oak.stream({\"messages\": [(\"human\", user_input)]}, config): \n",
    "        for key, value in event.items():\n",
    "            if key == 'agent' and len(value[\"messages\"][-1].content) > 0:\n",
    "                print(\"Assistant:\", value[\"messages\"][-1].content)\n",
    "                "
   ]
  },
  {
   "cell_type": "markdown",
   "metadata": {},
   "source": [
    "### Request API"
   ]
  },
  {
   "cell_type": "code",
   "execution_count": 17,
   "metadata": {},
   "outputs": [
    {
     "name": "stdout",
     "output_type": "stream",
     "text": [
      "{'content': \"Congratulations on your decision to become a Pokémon Trainer, Bob! That's a wonderful dream. As Professor Oak, I'm more than happy to help you achieve it.\\n\\nYou know, being a Pokémon Trainer is not just about catching and battling Pokémon, but also about understanding and appreciating these incredible creatures. And that's where my Pokedex comes in handy!\\n\\nLet me show you what I have on record for... well, Trainers like yourself! *consults Pokedex*\\n\\nAh yes! According to my data, a Trainer is a human who specializes in catching and training Pokémon. They're known for their exceptional battling skills and ability to form strong bonds with their Pokémon partners.\\n\\nNow, let's get started on your journey, Bob! I have just the thing for you...\", 'additional_kwargs': {}, 'response_metadata': {'model': 'llama3.1', 'created_at': '2024-09-20T08:14:50.525023Z', 'message': {'role': 'assistant', 'content': \"Congratulations on your decision to become a Pokémon Trainer, Bob! That's a wonderful dream. As Professor Oak, I'm more than happy to help you achieve it.\\n\\nYou know, being a Pokémon Trainer is not just about catching and battling Pokémon, but also about understanding and appreciating these incredible creatures. And that's where my Pokedex comes in handy!\\n\\nLet me show you what I have on record for... well, Trainers like yourself! *consults Pokedex*\\n\\nAh yes! According to my data, a Trainer is a human who specializes in catching and training Pokémon. They're known for their exceptional battling skills and ability to form strong bonds with their Pokémon partners.\\n\\nNow, let's get started on your journey, Bob! I have just the thing for you...\"}, 'done_reason': 'stop', 'done': True, 'total_duration': 4386319500, 'load_duration': 23348800, 'prompt_eval_count': 311, 'prompt_eval_duration': 104243000, 'eval_count': 156, 'eval_duration': 4251701000}, 'type': 'ai', 'name': None, 'id': 'run-4cdc00ad-0b41-489e-ae53-b3f75a2a1b4f-0', 'example': False, 'tool_calls': [], 'invalid_tool_calls': [], 'usage_metadata': {'input_tokens': 311, 'output_tokens': 156, 'total_tokens': 467}}\n"
     ]
    }
   ],
   "source": [
    "import requests\n",
    "\n",
    "response = requests.post(\n",
    "    url='http://localhost:8000/oak/invoke',\n",
    "    json={\n",
    "        'input': {\n",
    "            \"messages\": [(\"human\", \"Hello my name is BOB\")],\n",
    "        },\n",
    "        'config': {\n",
    "            'configurable': {\n",
    "                \"thread_id\": \"003\"\n",
    "            }\n",
    "        }\n",
    "    }\n",
    ")\n",
    "\n",
    "print(response.json()[\"output\"][\"messages\"][-1])"
   ]
  },
  {
   "cell_type": "code",
   "execution_count": 52,
   "metadata": {},
   "outputs": [
    {
     "name": "stdout",
     "output_type": "stream",
     "text": [
      "{'content': \"Your name, Bob! I remember now. You're a young and ambitious Trainer with a passion for Pokémon. Just like how a Sandshrew is known for its quick movements and sharp claws, you've got the makings of a top-notch Trainer in you!\", 'additional_kwargs': {}, 'response_metadata': {'model': 'llama3.1', 'created_at': '2024-09-08T18:02:28.1199929Z', 'message': {'role': 'assistant', 'content': \"Your name, Bob! I remember now. You're a young and ambitious Trainer with a passion for Pokémon. Just like how a Sandshrew is known for its quick movements and sharp claws, you've got the makings of a top-notch Trainer in you!\"}, 'done_reason': 'stop', 'done': True, 'total_duration': 1611179200, 'load_duration': 23801800, 'prompt_eval_count': 860, 'prompt_eval_duration': 87386000, 'eval_count': 54, 'eval_duration': 1463094000}, 'type': 'ai', 'name': None, 'id': 'run-34dab780-754a-4aa8-853b-c28bb7d93434-0', 'example': False, 'tool_calls': [], 'invalid_tool_calls': [], 'usage_metadata': {'input_tokens': 860, 'output_tokens': 54, 'total_tokens': 914}}\n"
     ]
    }
   ],
   "source": [
    "import requests\n",
    "\n",
    "response = requests.post(\n",
    "    url='http://localhost:8000/oak/invoke',\n",
    "    json={\n",
    "        'input': {\n",
    "            \"messages\": [(\"human\", \"What was my name?\")],\n",
    "        },\n",
    "        'config': {\n",
    "            'configurable': {\n",
    "                \"thread_id\": \"003\"\n",
    "            }\n",
    "        }\n",
    "    }\n",
    ")\n",
    "\n",
    "print(response.json()[\"output\"][\"messages\"][-1])"
   ]
  }
 ],
 "metadata": {
  "kernelspec": {
   "display_name": ".venv",
   "language": "python",
   "name": "python3"
  },
  "language_info": {
   "codemirror_mode": {
    "name": "ipython",
    "version": 3
   },
   "file_extension": ".py",
   "mimetype": "text/x-python",
   "name": "python",
   "nbconvert_exporter": "python",
   "pygments_lexer": "ipython3",
   "version": "3.12.5"
  }
 },
 "nbformat": 4,
 "nbformat_minor": 4
}
