{
 "cells": [
  {
   "cell_type": "markdown",
   "metadata": {},
   "source": [
    "## Remote Graph from LangGraph Platform\n"
   ]
  },
  {
   "cell_type": "code",
   "execution_count": null,
   "metadata": {},
   "outputs": [],
   "source": [
    "from langgraph.pregel.remote import RemoteGraph\n",
    "from langgraph_sdk import get_sync_client\n",
    "from langgraph.types import Command\n",
    "\n",
    "url = \"http://0.0.0.0:8000\"\n",
    "graph_name = \"main_graph\"\n",
    "sync_client = get_sync_client(url=url)\n",
    "remote_graph = RemoteGraph(graph_name, url=url)\n",
    "\n",
    "# create a thread (or use an existing thread instead)\n",
    "thread = sync_client.threads.create()\n",
    "\n",
    "# obtain the graph with the thread config\n",
    "config = {\"configurable\": {\"thread_id\": thread[\"thread_id\"]}}"
   ]
  },
  {
   "cell_type": "code",
   "execution_count": null,
   "metadata": {},
   "outputs": [],
   "source": [
    "# Define the input and invoke\n",
    "user_input = \"Ey, puedes resumirme 10 mensajes?\"\n",
    "message_input = {\"messages\": [{\"role\": \"human\", \"content\": user_input}]}\n",
    "for event in remote_graph.stream(message_input, config, stream_mode=\"updates\"):\n",
    "    print(event)\n",
    "    print(\"\\n\")\n"
   ]
  },
  {
   "cell_type": "code",
   "execution_count": null,
   "metadata": {},
   "outputs": [],
   "source": [
    "# Continue the action\n",
    "for event in remote_graph.stream(\n",
    "    # provide continue\n",
    "    Command(resume={\"action\": \"continue\"}),\n",
    "    config,\n",
    "    stream_mode=\"updates\",\n",
    "):\n",
    "    print(event)\n",
    "    print(\"\\n\")"
   ]
  },
  {
   "cell_type": "markdown",
   "metadata": {},
   "source": [
    "## Local Graph Serverless"
   ]
  },
  {
   "cell_type": "code",
   "execution_count": null,
   "metadata": {},
   "outputs": [],
   "source": [
    "## From LangGraph\n",
    "from langgraph.types import Command\n",
    "from langgraph.checkpoint.memory import MemorySaver\n",
    "from cheese.workflow_builder import WorkflowBuilder\n",
    "from cheese.config.config_graph import ConfigGraph\n",
    "from cheese.entity.models.stategraph import SharedState\n",
    "from cheese.entity.models.inputgraph import InputState\n",
    "from cheese.entity.models.outputgraph import OutputState\n",
    "from cheese.utils.common import read_yaml\n",
    "from cheese.utils.logger import setup_logging\n",
    "from cheese.constants import *\n",
    "\n",
    "## Read the config.yaml\n",
    "config = read_yaml(CONFIG_FILE_PATH)\n",
    "\n",
    "## Setup logging Configuration\n",
    "setup_logging(config)\n",
    "\n",
    "## Workflow Configuration\n",
    "workflow_builder = WorkflowBuilder(\n",
    "    config=ConfigGraph, \n",
    "    state_schema=SharedState, \n",
    "    input=InputState, \n",
    "    output=OutputState,\n",
    "    checkpointer=MemorySaver(),\n",
    "    name=config['package']['repo_name']\n",
    ")\n",
    "cheese = workflow_builder.compile() # compile the graph\n",
    "workflow_builder.display_graph(save=True, filepath=\"artifacts/cheese_graph.png\") # update the graph artifact"
   ]
  },
  {
   "cell_type": "code",
   "execution_count": 2,
   "metadata": {},
   "outputs": [],
   "source": [
    "# Define the thread_id\n",
    "config = {\"configurable\": {\"thread_id\": \"001\"}}"
   ]
  },
  {
   "cell_type": "code",
   "execution_count": null,
   "metadata": {},
   "outputs": [],
   "source": [
    "# Define the input and invoke\n",
    "user_input = \"Ey, ¿qué tal?\"\n",
    "message_input = {\"messages\": [{\"role\": \"human\", \"content\": user_input}]}\n",
    "for event in cheese.stream(message_input, config, stream_mode=\"updates\"):\n",
    "    print(event)\n",
    "    print(\"\\n\")"
   ]
  },
  {
   "cell_type": "code",
   "execution_count": null,
   "metadata": {},
   "outputs": [],
   "source": [
    "# Define the input and invoke\n",
    "user_input = \"¿Puedes resumirme los últimos 25 mensajes?\"\n",
    "message_input = {\"messages\": [{\"role\": \"human\", \"content\": user_input}]}\n",
    "for event in cheese.stream(message_input, config, stream_mode=\"updates\"):\n",
    "    print(event)\n",
    "    print(\"\\n\")"
   ]
  },
  {
   "cell_type": "code",
   "execution_count": null,
   "metadata": {},
   "outputs": [],
   "source": [
    "for event in cheese.stream(\n",
    "    # provide feedback\n",
    "    Command(resume={\n",
    "        \"action\": \"feedback\", \n",
    "        \"data\": \"Perdona, quise decir 5 mensajes\"\n",
    "        }\n",
    "    ),\n",
    "    config,\n",
    "    stream_mode=\"updates\",\n",
    "):\n",
    "    print(event)\n",
    "    print(\"\\n\")"
   ]
  },
  {
   "cell_type": "code",
   "execution_count": null,
   "metadata": {},
   "outputs": [],
   "source": [
    "for event in cheese.stream(\n",
    "    # provide continue\n",
    "    Command(resume={\"action\": \"continue\"}),\n",
    "    config,\n",
    "    stream_mode=\"updates\",\n",
    "):\n",
    "    print(event)\n",
    "    print(\"\\n\")"
   ]
  }
 ],
 "metadata": {
  "kernelspec": {
   "display_name": ".venv",
   "language": "python",
   "name": "python3"
  },
  "language_info": {
   "codemirror_mode": {
    "name": "ipython",
    "version": 3
   },
   "file_extension": ".py",
   "mimetype": "text/x-python",
   "name": "python",
   "nbconvert_exporter": "python",
   "pygments_lexer": "ipython3",
   "version": "3.12.5"
  }
 },
 "nbformat": 4,
 "nbformat_minor": 4
}
